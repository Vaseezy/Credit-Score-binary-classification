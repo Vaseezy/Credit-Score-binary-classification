{
 "cells": [
  {
   "cell_type": "code",
   "execution_count": 26,
   "id": "7246fbda-8db7-465b-b32d-a5a9a6614cf5",
   "metadata": {},
   "outputs": [],
   "source": [
    "import numpy as np\n",
    "import pandas as pd\n",
    "\n",
    "from sklearn.linear_model import LogisticRegression\n",
    "from sklearn.metrics import roc_auc_score, f1_score, confusion_matrix, ConfusionMatrixDisplay\n",
    "from sklearn.model_selection import train_test_split, StratifiedKFold, KFold\n",
    "from sklearn.ensemble import RandomForestClassifier\n",
    "from sklearn.calibration import CalibratedClassifierCV\n",
    "from lightgbm import LGBMClassifier, Dataset\n",
    "from catboost import CatBoostClassifier\n",
    "from sklearn.preprocessing import LabelEncoder\n",
    "from get_metrics1 import get_metrics_classification\n",
    "import matplotlib.pyplot as plt\n",
    "import seaborn as sns\n",
    "from scipy import stats\n",
    "from SupFunctions import check_overfitting_classification, scale_pos_weight_calc\n",
    "import warnings\n",
    "from warnings import simplefilter\n",
    "warnings.filterwarnings(\"ignore\")\n",
    "simplefilter(\"ignore\", category=RuntimeWarning)\n",
    "\n",
    "RAND = 10\n",
    "N_FOLD = 5\n"
   ]
  },
  {
   "cell_type": "code",
   "execution_count": 27,
   "id": "2853c0ce-805d-49c5-a316-b9b556ff55be",
   "metadata": {},
   "outputs": [],
   "source": [
    "df_credit = pd.read_csv('df_credit.csv')"
   ]
  },
  {
   "cell_type": "code",
   "execution_count": 28,
   "id": "27ef800e-4ec8-4265-8619-f42f0a82b51c",
   "metadata": {},
   "outputs": [
    {
     "data": {
      "text/html": [
       "<div>\n",
       "<style scoped>\n",
       "    .dataframe tbody tr th:only-of-type {\n",
       "        vertical-align: middle;\n",
       "    }\n",
       "\n",
       "    .dataframe tbody tr th {\n",
       "        vertical-align: top;\n",
       "    }\n",
       "\n",
       "    .dataframe thead th {\n",
       "        text-align: right;\n",
       "    }\n",
       "</style>\n",
       "<table border=\"1\" class=\"dataframe\">\n",
       "  <thead>\n",
       "    <tr style=\"text-align: right;\">\n",
       "      <th></th>\n",
       "      <th>person_age</th>\n",
       "      <th>person_gender</th>\n",
       "      <th>person_education</th>\n",
       "      <th>person_income</th>\n",
       "      <th>person_emp_exp</th>\n",
       "      <th>person_home_ownership</th>\n",
       "      <th>loan_amnt</th>\n",
       "      <th>loan_intent</th>\n",
       "      <th>loan_int_rate</th>\n",
       "      <th>loan_percent_income</th>\n",
       "      <th>cb_person_cred_hist_length</th>\n",
       "      <th>credit_score</th>\n",
       "      <th>previous_loan_defaults_on_file</th>\n",
       "      <th>loan_status</th>\n",
       "    </tr>\n",
       "  </thead>\n",
       "  <tbody>\n",
       "    <tr>\n",
       "      <th>0</th>\n",
       "      <td>22.0</td>\n",
       "      <td>female</td>\n",
       "      <td>Master</td>\n",
       "      <td>71948.0</td>\n",
       "      <td>0</td>\n",
       "      <td>RENT</td>\n",
       "      <td>35000.0</td>\n",
       "      <td>PERSONAL</td>\n",
       "      <td>16.02</td>\n",
       "      <td>0.49</td>\n",
       "      <td>3.0</td>\n",
       "      <td>561</td>\n",
       "      <td>No</td>\n",
       "      <td>1</td>\n",
       "    </tr>\n",
       "    <tr>\n",
       "      <th>1</th>\n",
       "      <td>21.0</td>\n",
       "      <td>female</td>\n",
       "      <td>High School</td>\n",
       "      <td>12282.0</td>\n",
       "      <td>0</td>\n",
       "      <td>OWN</td>\n",
       "      <td>1000.0</td>\n",
       "      <td>EDUCATION</td>\n",
       "      <td>11.14</td>\n",
       "      <td>0.08</td>\n",
       "      <td>2.0</td>\n",
       "      <td>504</td>\n",
       "      <td>Yes</td>\n",
       "      <td>0</td>\n",
       "    </tr>\n",
       "    <tr>\n",
       "      <th>2</th>\n",
       "      <td>25.0</td>\n",
       "      <td>female</td>\n",
       "      <td>High School</td>\n",
       "      <td>12438.0</td>\n",
       "      <td>3</td>\n",
       "      <td>MORTGAGE</td>\n",
       "      <td>5500.0</td>\n",
       "      <td>MEDICAL</td>\n",
       "      <td>12.87</td>\n",
       "      <td>0.44</td>\n",
       "      <td>3.0</td>\n",
       "      <td>635</td>\n",
       "      <td>No</td>\n",
       "      <td>1</td>\n",
       "    </tr>\n",
       "    <tr>\n",
       "      <th>3</th>\n",
       "      <td>23.0</td>\n",
       "      <td>female</td>\n",
       "      <td>Bachelor</td>\n",
       "      <td>79753.0</td>\n",
       "      <td>0</td>\n",
       "      <td>RENT</td>\n",
       "      <td>35000.0</td>\n",
       "      <td>MEDICAL</td>\n",
       "      <td>15.23</td>\n",
       "      <td>0.44</td>\n",
       "      <td>2.0</td>\n",
       "      <td>675</td>\n",
       "      <td>No</td>\n",
       "      <td>1</td>\n",
       "    </tr>\n",
       "    <tr>\n",
       "      <th>4</th>\n",
       "      <td>24.0</td>\n",
       "      <td>male</td>\n",
       "      <td>Master</td>\n",
       "      <td>66135.0</td>\n",
       "      <td>1</td>\n",
       "      <td>RENT</td>\n",
       "      <td>35000.0</td>\n",
       "      <td>MEDICAL</td>\n",
       "      <td>14.27</td>\n",
       "      <td>0.53</td>\n",
       "      <td>4.0</td>\n",
       "      <td>586</td>\n",
       "      <td>No</td>\n",
       "      <td>1</td>\n",
       "    </tr>\n",
       "  </tbody>\n",
       "</table>\n",
       "</div>"
      ],
      "text/plain": [
       "   person_age person_gender person_education  person_income  person_emp_exp  \\\n",
       "0        22.0        female           Master        71948.0               0   \n",
       "1        21.0        female      High School        12282.0               0   \n",
       "2        25.0        female      High School        12438.0               3   \n",
       "3        23.0        female         Bachelor        79753.0               0   \n",
       "4        24.0          male           Master        66135.0               1   \n",
       "\n",
       "  person_home_ownership  loan_amnt loan_intent  loan_int_rate  \\\n",
       "0                  RENT    35000.0    PERSONAL          16.02   \n",
       "1                   OWN     1000.0   EDUCATION          11.14   \n",
       "2              MORTGAGE     5500.0     MEDICAL          12.87   \n",
       "3                  RENT    35000.0     MEDICAL          15.23   \n",
       "4                  RENT    35000.0     MEDICAL          14.27   \n",
       "\n",
       "   loan_percent_income  cb_person_cred_hist_length  credit_score  \\\n",
       "0                 0.49                         3.0           561   \n",
       "1                 0.08                         2.0           504   \n",
       "2                 0.44                         3.0           635   \n",
       "3                 0.44                         2.0           675   \n",
       "4                 0.53                         4.0           586   \n",
       "\n",
       "  previous_loan_defaults_on_file  loan_status  \n",
       "0                             No            1  \n",
       "1                            Yes            0  \n",
       "2                             No            1  \n",
       "3                             No            1  \n",
       "4                             No            1  "
      ]
     },
     "execution_count": 28,
     "metadata": {},
     "output_type": "execute_result"
    }
   ],
   "source": [
    "df_credit.head()"
   ]
  },
  {
   "cell_type": "code",
   "execution_count": 29,
   "id": "7d3e915a-f8e0-480a-8021-712a088730ad",
   "metadata": {},
   "outputs": [
    {
     "name": "stdout",
     "output_type": "stream",
     "text": [
      "<class 'pandas.core.frame.DataFrame'>\n",
      "RangeIndex: 44961 entries, 0 to 44960\n",
      "Data columns (total 14 columns):\n",
      " #   Column                          Non-Null Count  Dtype  \n",
      "---  ------                          --------------  -----  \n",
      " 0   person_age                      44961 non-null  float64\n",
      " 1   person_gender                   44961 non-null  object \n",
      " 2   person_education                44961 non-null  object \n",
      " 3   person_income                   44961 non-null  float64\n",
      " 4   person_emp_exp                  44961 non-null  int64  \n",
      " 5   person_home_ownership           44961 non-null  object \n",
      " 6   loan_amnt                       44961 non-null  float64\n",
      " 7   loan_intent                     44961 non-null  object \n",
      " 8   loan_int_rate                   44961 non-null  float64\n",
      " 9   loan_percent_income             44961 non-null  float64\n",
      " 10  cb_person_cred_hist_length      44961 non-null  float64\n",
      " 11  credit_score                    44961 non-null  int64  \n",
      " 12  previous_loan_defaults_on_file  44961 non-null  object \n",
      " 13  loan_status                     44961 non-null  int64  \n",
      "dtypes: float64(6), int64(3), object(5)\n",
      "memory usage: 4.8+ MB\n"
     ]
    }
   ],
   "source": [
    "df_credit.info()"
   ]
  },
  {
   "cell_type": "markdown",
   "id": "e54971fe-6b3c-4a3c-b67a-7b17799281dd",
   "metadata": {},
   "source": [
    "# Split data"
   ]
  },
  {
   "cell_type": "markdown",
   "id": "673a249c-b871-45e3-8c23-c2ac580a3380",
   "metadata": {},
   "source": [
    "Как было отмечено в EDA анализе, присутствует дизбаланс классов."
   ]
  },
  {
   "cell_type": "code",
   "execution_count": 30,
   "id": "797c8589-8250-4818-b430-c7916a0b81bb",
   "metadata": {},
   "outputs": [],
   "source": [
    "X = df_credit.drop(['loan_status'], axis=1)\n",
    "y = df_credit['loan_status']\n",
    "\n",
    "X_train, X_test, y_train, y_test = train_test_split(X, y, \n",
    "                                                    test_size=0.2,\n",
    "                                                    shuffle=True,\n",
    "                                                    stratify=y, \n",
    "                                                    random_state=RAND)"
   ]
  },
  {
   "cell_type": "code",
   "execution_count": 31,
   "id": "377d553b-5dfc-4f11-be32-7b33873752d4",
   "metadata": {},
   "outputs": [],
   "source": [
    "meta_X = pd.DataFrame(index=X_train.index)  # Создаем DataFrame с теми же индексами, что и X_train\n",
    "meta_X_test = pd.DataFrame(index=X_test.index)"
   ]
  },
  {
   "cell_type": "markdown",
   "id": "13c74cef-c0a1-41ed-86a9-d99377112cdf",
   "metadata": {},
   "source": [
    "## CatBoost Classifier Baseline"
   ]
  },
  {
   "cell_type": "markdown",
   "id": "e486a172-706f-490a-8f7f-89ddfa9bc3fc",
   "metadata": {},
   "source": [
    "1. Обучим baseline Catboost на HoldOut:"
   ]
  },
  {
   "cell_type": "code",
   "execution_count": 32,
   "id": "8821c480-9b3d-4673-89c9-7468dd04f5cf",
   "metadata": {},
   "outputs": [],
   "source": [
    "cat_features = list(df_credit.select_dtypes(include=['object']).columns)"
   ]
  },
  {
   "cell_type": "code",
   "execution_count": 33,
   "id": "3651ed6b-9a8b-4634-9055-ffa3ae5029c8",
   "metadata": {},
   "outputs": [
    {
     "name": "stdout",
     "output_type": "stream",
     "text": [
      "Fold: 1 F1-SCORE Validation 0.830\n",
      "---\n",
      "Fold: 2 F1-SCORE Validation 0.829\n",
      "---\n",
      "Fold: 3 F1-SCORE Validation 0.830\n",
      "---\n",
      "Fold: 4 F1-SCORE Validation 0.823\n",
      "---\n",
      "Fold: 5 F1-SCORE Validation 0.833\n",
      "---\n",
      "F1-SCORE mean oof: 0.829, std: 0.003\n"
     ]
    }
   ],
   "source": [
    "skf = StratifiedKFold(n_splits=N_FOLD, random_state=RAND, shuffle=True)\n",
    "score_oof = []\n",
    "finish_test_preds = []\n",
    "finish_test_preds_proba = []\n",
    "for fold, (train_index, test_index) in enumerate(skf.split(X_train, y_train)):\n",
    "    X_train_, X_val = X_train.iloc[train_index], X_train.iloc[test_index]\n",
    "    y_train_, y_val = y_train.iloc[train_index], y_train.iloc[test_index]\n",
    "\n",
    "    cb = CatBoostClassifier(scale_pos_weight=scale_pos_weight_calc(y),\n",
    "                               cat_features = cat_features,\n",
    "                               random_state=RAND, \n",
    "                               verbose=0) \n",
    "    model = CalibratedClassifierCV(estimator=cb, method='isotonic', cv=3) \n",
    "\n",
    "    model.fit(X_train_, y_train_, eval_set=(X_val, y_val), early_stopping_rounds=10)\n",
    "\n",
    "    # oof\n",
    "    preds_val = model.predict(X_val)\n",
    "    score_oof.append(f1_score(y_val, preds_val))\n",
    "\n",
    "    print(\"Fold:\", fold + 1, \"F1-SCORE Validation %.3f\" % f1_score(y_val, preds_val))\n",
    "    print(\"---\")\n",
    "\n",
    "    # holdout\n",
    "    preds_test = model.predict(X_test)\n",
    "    preds_test_proba = model.predict_proba(X_test)[:, 1]\n",
    "\n",
    "    finish_test_preds.append(preds_test)\n",
    "    finish_test_preds_proba.append(preds_test_proba)\n",
    "\n",
    "    meta_X.loc[X_val.index, 'catboost_baseline'] = model.predict_proba(X_val)[:, 1]  \n",
    "\n",
    "print('F1-SCORE mean oof: %.3f, std: %.3f' % (np.mean(score_oof), np.std(score_oof)))\n",
    "\n",
    "meta_X_test['catboost_baseline'] = np.mean(finish_test_preds_proba, axis=0) "
   ]
  },
  {
   "cell_type": "code",
   "execution_count": 34,
   "id": "8df2f76d-3862-4122-a14c-962e01437be3",
   "metadata": {},
   "outputs": [
    {
     "name": "stdout",
     "output_type": "stream",
     "text": [
      "F1-macro mean OOF: 0.829, std: 0.003\n",
      "F1-macro HOLDOUT: 0.895\n"
     ]
    }
   ],
   "source": [
    "# Находим моду по классам\n",
    "test_pred = stats.mode(np.column_stack(finish_test_preds), axis=1)[0]\n",
    "\n",
    "# Находим среднее по вероятностям\n",
    "test_pred_proba = np.mean(finish_test_preds_proba, axis=0)\n",
    "\n",
    "# Вычисляем F1-макро для валидации (OOF)\n",
    "print('F1-macro mean OOF: %.3f, std: %.3f' %\n",
    "      (np.mean(score_oof), np.std(score_oof)))\n",
    "\n",
    "# Вычисляем F1-макро для тестового набора\n",
    "f1_test = f1_score(y_test, test_pred, average='macro')\n",
    "print('F1-macro HOLDOUT: %.3f' % f1_test)"
   ]
  },
  {
   "cell_type": "code",
   "execution_count": 35,
   "id": "02ed4fa3-af85-471e-ad76-7b90c0edead1",
   "metadata": {},
   "outputs": [
    {
     "data": {
      "text/html": [
       "<div>\n",
       "<style scoped>\n",
       "    .dataframe tbody tr th:only-of-type {\n",
       "        vertical-align: middle;\n",
       "    }\n",
       "\n",
       "    .dataframe tbody tr th {\n",
       "        vertical-align: top;\n",
       "    }\n",
       "\n",
       "    .dataframe thead th {\n",
       "        text-align: right;\n",
       "    }\n",
       "</style>\n",
       "<table border=\"1\" class=\"dataframe\">\n",
       "  <thead>\n",
       "    <tr style=\"text-align: right;\">\n",
       "      <th></th>\n",
       "      <th>model</th>\n",
       "      <th>Accuracy</th>\n",
       "      <th>ROC_AUC</th>\n",
       "      <th>Logloss</th>\n",
       "      <th>Precision</th>\n",
       "      <th>Recall</th>\n",
       "      <th>f1</th>\n",
       "    </tr>\n",
       "  </thead>\n",
       "  <tbody>\n",
       "    <tr>\n",
       "      <th>0</th>\n",
       "      <td>Catboost baseline Holdout</td>\n",
       "      <td>0.93039</td>\n",
       "      <td>0.977312</td>\n",
       "      <td>0.153096</td>\n",
       "      <td>0.889835</td>\n",
       "      <td>0.783892</td>\n",
       "      <td>0.833511</td>\n",
       "    </tr>\n",
       "  </tbody>\n",
       "</table>\n",
       "</div>"
      ],
      "text/plain": [
       "                       model  Accuracy   ROC_AUC   Logloss  Precision  \\\n",
       "0  Catboost baseline Holdout   0.93039  0.977312  0.153096   0.889835   \n",
       "\n",
       "     Recall        f1  \n",
       "0  0.783892  0.833511  "
      ]
     },
     "execution_count": 35,
     "metadata": {},
     "output_type": "execute_result"
    }
   ],
   "source": [
    "df_metrics = get_metrics_classification(y_test, \n",
    "                                        test_pred, \n",
    "                                        test_pred_proba,\n",
    "                                        \"Catboost baseline Holdout\")\n",
    "df_metrics"
   ]
  },
  {
   "cell_type": "code",
   "execution_count": 36,
   "id": "faa74ec2-3ce3-4c0e-9dd1-2200ad0ea718",
   "metadata": {},
   "outputs": [
    {
     "name": "stdout",
     "output_type": "stream",
     "text": [
      "ROC-AUC train: 0.980\n",
      "ROC-AUC test: 0.976\n",
      "delta = 0.3 %\n"
     ]
    },
    {
     "data": {
      "text/plain": [
       "(0.9795958392287807, 0.9763785953600191, 0.32950782453145155)"
      ]
     },
     "execution_count": 36,
     "metadata": {},
     "output_type": "execute_result"
    }
   ],
   "source": [
    "check_overfitting_classification(model,\n",
    "                  X_train,\n",
    "                  y_train,\n",
    "                  X_test,\n",
    "                  y_test)"
   ]
  },
  {
   "cell_type": "code",
   "execution_count": 37,
   "id": "3de38dbd-7352-4cdd-9cc2-8fb20d004138",
   "metadata": {},
   "outputs": [],
   "source": [
    "y_pred_final = model.predict(X_test)"
   ]
  },
  {
   "cell_type": "code",
   "execution_count": 38,
   "id": "6875d082-eca2-4395-9834-e55d745ca3ce",
   "metadata": {},
   "outputs": [
    {
     "data": {
      "image/png": "[encoded data removed]",
      "text/plain": [
       "<Figure size 700x500 with 2 Axes>"
      ]
     },
     "metadata": {},
     "output_type": "display_data"
    }
   ],
   "source": [
    "def plot_confusion_matrix(y_true, y_pred, ax=None):\n",
    "    \"\"\"Визуализация ConfusionMatrix\"\"\"\n",
    "    labels = list(set(y_pred))\n",
    "    cm = confusion_matrix(y_true, y_pred, labels=labels)\n",
    "    disp = ConfusionMatrixDisplay(confusion_matrix=cm, display_labels=labels)\n",
    "    \n",
    "    if ax:\n",
    "        disp.plot(ax=ax)\n",
    "    else:\n",
    "        disp.plot()\n",
    "\n",
    "# Создаем фигуру и оси\n",
    "fig, ax = plt.subplots(figsize=(7, 5))\n",
    "\n",
    "# Визуализируем матрицу ошибок\n",
    "plot_confusion_matrix(y_true=y_test, y_pred=y_pred_final, ax=ax)\n",
    "plt.show()"
   ]
  },
  {
   "cell_type": "markdown",
   "id": "fa3aabfa-29c1-403b-990b-66e8140d2a62",
   "metadata": {},
   "source": [
    "## LGBM Classifier Baseline"
   ]
  },
  {
   "cell_type": "markdown",
   "id": "971f7eb5-4dea-4fb7-be2d-ff0d3692427e",
   "metadata": {},
   "source": [
    "Для того чтобы учесть дизбаланс классов в модели LightGBM, нужно бинаризовать категориальные данные"
   ]
  },
  {
   "cell_type": "code",
   "execution_count": 39,
   "id": "05e62319-ac86-46c7-a6a3-d64f775251f5",
   "metadata": {},
   "outputs": [],
   "source": [
    "# Применяем get_dummies к обучающим данным\n",
    "X_train_encoded = pd.get_dummies(X_train, columns=cat_features, drop_first=True)\n",
    "\n",
    "# Для тестовых данных используем те же dummy-колонки\n",
    "X_test_encoded = pd.get_dummies(X_test, columns=cat_features, drop_first=True)\n",
    "\n",
    "# Выравниваем колонки в тестовых данных по обучающим\n",
    "missing_cols = set(X_train_encoded.columns) - set(X_test_encoded.columns)\n",
    "for col in missing_cols:\n",
    "    X_test_encoded[col] = 0\n",
    "X_test_encoded = X_test_encoded[X_train_encoded.columns]"
   ]
  },
  {
   "cell_type": "code",
   "execution_count": null,
   "id": "d0a329ef-ba34-4a64-b887-c7f31d8e42a4",
   "metadata": {},
   "outputs": [],
   "source": []
  },
  {
   "cell_type": "code",
   "execution_count": 40,
   "id": "f4e765df-7363-4f66-a148-902207934b3c",
   "metadata": {},
   "outputs": [
    {
     "name": "stdout",
     "output_type": "stream",
     "text": [
      "[LightGBM] [Warning] Found whitespace in feature_names, replace with underlines\n",
      "[LightGBM] [Warning] Found whitespace in feature_names, replace with underlines\n",
      "[LightGBM] [Warning] Found whitespace in feature_names, replace with underlines\n",
      "[LightGBM] [Warning] Found whitespace in feature_names, replace with underlines\n",
      "[LightGBM] [Warning] Found whitespace in feature_names, replace with underlines\n",
      "[LightGBM] [Warning] Found whitespace in feature_names, replace with underlines\n",
      "Fold: 1 F1-SCORE Validation 0.834\n",
      "---\n",
      "[LightGBM] [Warning] Found whitespace in feature_names, replace with underlines\n",
      "[LightGBM] [Warning] Found whitespace in feature_names, replace with underlines\n",
      "[LightGBM] [Warning] Found whitespace in feature_names, replace with underlines\n",
      "[LightGBM] [Warning] Found whitespace in feature_names, replace with underlines\n",
      "[LightGBM] [Warning] Found whitespace in feature_names, replace with underlines\n",
      "[LightGBM] [Warning] Found whitespace in feature_names, replace with underlines\n",
      "Fold: 2 F1-SCORE Validation 0.830\n",
      "---\n",
      "[LightGBM] [Warning] Found whitespace in feature_names, replace with underlines\n",
      "[LightGBM] [Warning] Found whitespace in feature_names, replace with underlines\n",
      "[LightGBM] [Warning] Found whitespace in feature_names, replace with underlines\n",
      "[LightGBM] [Warning] Found whitespace in feature_names, replace with underlines\n",
      "[LightGBM] [Warning] Found whitespace in feature_names, replace with underlines\n",
      "[LightGBM] [Warning] Found whitespace in feature_names, replace with underlines\n",
      "Fold: 3 F1-SCORE Validation 0.832\n",
      "---\n",
      "[LightGBM] [Warning] Found whitespace in feature_names, replace with underlines\n",
      "[LightGBM] [Warning] Found whitespace in feature_names, replace with underlines\n",
      "[LightGBM] [Warning] Found whitespace in feature_names, replace with underlines\n",
      "[LightGBM] [Warning] Found whitespace in feature_names, replace with underlines\n",
      "[LightGBM] [Warning] Found whitespace in feature_names, replace with underlines\n",
      "[LightGBM] [Warning] Found whitespace in feature_names, replace with underlines\n",
      "Fold: 4 F1-SCORE Validation 0.826\n",
      "---\n",
      "[LightGBM] [Warning] Found whitespace in feature_names, replace with underlines\n",
      "[LightGBM] [Warning] Found whitespace in feature_names, replace with underlines\n",
      "[LightGBM] [Warning] Found whitespace in feature_names, replace with underlines\n",
      "[LightGBM] [Warning] Found whitespace in feature_names, replace with underlines\n",
      "[LightGBM] [Warning] Found whitespace in feature_names, replace with underlines\n",
      "[LightGBM] [Warning] Found whitespace in feature_names, replace with underlines\n",
      "Fold: 5 F1-SCORE Validation 0.830\n",
      "---\n",
      "F1-SCORE mean oof: 0.830, std: 0.002\n"
     ]
    }
   ],
   "source": [
    "# Для кросс-валидации\n",
    "skf = StratifiedKFold(n_splits=N_FOLD, random_state=RAND, shuffle=True)\n",
    "score_oof = []\n",
    "finish_test_preds = []\n",
    "finish_test_preds_proba = []\n",
    "\n",
    "for fold, (train_index, val_index) in enumerate(skf.split(X_train_encoded, y_train)):\n",
    "    # Разделение на train/val внутри обучающей выборки\n",
    "    X_train_, X_val = X_train_encoded.iloc[train_index], X_train_encoded.iloc[val_index]\n",
    "    y_train_, y_val = y_train.iloc[train_index], y_train.iloc[val_index]\n",
    "    \n",
    "    # Создаем и обучаем модель\n",
    "    lgbm = LGBMClassifier(objective='binary',\n",
    "                          class_weight='balanced',\n",
    "                          random_state=RAND,\n",
    "                          verbose=0)    \n",
    "    model = CalibratedClassifierCV(estimator=lgbm, method='isotonic', cv=3)\n",
    "\n",
    "    model.fit(X_train_, y_train_, eval_set=[(X_val, y_val)], eval_metric='logloss')\n",
    "    \n",
    "    # Предсказания на валидации\n",
    "    preds_val = model.predict(X_val)\n",
    "    score_oof.append(f1_score(y_val, preds_val))\n",
    "    \n",
    "    print(f\"Fold: {fold + 1} F1-SCORE Validation {f1_score(y_val, preds_val):.3f}\")\n",
    "    print(\"---\")\n",
    "    \n",
    "    # Предсказания на тесте\n",
    "    preds_test = model.predict(X_test_encoded)\n",
    "    preds_test_proba = model.predict_proba(X_test_encoded)[:, 1]\n",
    "    \n",
    "    finish_test_preds.append(preds_test)\n",
    "    finish_test_preds_proba.append(preds_test_proba)\n",
    "    \n",
    "    meta_X.loc[X_val.index, 'lgbm_baseline'] = model.predict_proba(X_val)[:, 1]\n",
    "\n",
    "print(f'F1-SCORE mean oof: {np.mean(score_oof):.3f}, std: {np.std(score_oof):.3f}')\n",
    "meta_X_test['lgbm_baseline'] = np.mean(finish_test_preds_proba, axis=0) "
   ]
  },
  {
   "cell_type": "code",
   "execution_count": 41,
   "id": "3ff4edf7-a901-4a10-b03f-d968f6e11dfa",
   "metadata": {},
   "outputs": [
    {
     "name": "stdout",
     "output_type": "stream",
     "text": [
      "F1-macro mean OOF: 0.830, std: 0.002\n",
      "F1-macro HOLDOUT: 0.898\n"
     ]
    }
   ],
   "source": [
    "# Находим моду по классам\n",
    "test_pred = stats.mode(np.column_stack(finish_test_preds), axis=1)[0]\n",
    "\n",
    "# Находим среднее по вероятностям\n",
    "test_pred_proba = np.mean(finish_test_preds_proba, axis=0)\n",
    "\n",
    "# Вычисляем F1-макро для валидации (OOF)\n",
    "print('F1-macro mean OOF: %.3f, std: %.3f' %\n",
    "      (np.mean(score_oof), np.std(score_oof)))\n",
    "\n",
    "# Вычисляем F1-макро для тестового набора\n",
    "f1_test = f1_score(y_test, test_pred, average='macro')\n",
    "print('F1-macro HOLDOUT: %.3f' % f1_test)"
   ]
  },
  {
   "cell_type": "code",
   "execution_count": 42,
   "id": "83382c23-1d54-430f-9809-825c417287d0",
   "metadata": {},
   "outputs": [
    {
     "data": {
      "text/html": [
       "<div>\n",
       "<style scoped>\n",
       "    .dataframe tbody tr th:only-of-type {\n",
       "        vertical-align: middle;\n",
       "    }\n",
       "\n",
       "    .dataframe tbody tr th {\n",
       "        vertical-align: top;\n",
       "    }\n",
       "\n",
       "    .dataframe thead th {\n",
       "        text-align: right;\n",
       "    }\n",
       "</style>\n",
       "<table border=\"1\" class=\"dataframe\">\n",
       "  <thead>\n",
       "    <tr style=\"text-align: right;\">\n",
       "      <th></th>\n",
       "      <th>model</th>\n",
       "      <th>Accuracy</th>\n",
       "      <th>ROC_AUC</th>\n",
       "      <th>Logloss</th>\n",
       "      <th>Precision</th>\n",
       "      <th>Recall</th>\n",
       "      <th>f1</th>\n",
       "    </tr>\n",
       "  </thead>\n",
       "  <tbody>\n",
       "    <tr>\n",
       "      <th>0</th>\n",
       "      <td>Catboost baseline Holdout</td>\n",
       "      <td>0.930390</td>\n",
       "      <td>0.977312</td>\n",
       "      <td>0.153096</td>\n",
       "      <td>0.889835</td>\n",
       "      <td>0.783892</td>\n",
       "      <td>0.833511</td>\n",
       "    </tr>\n",
       "    <tr>\n",
       "      <th>0</th>\n",
       "      <td>LightGBM baseline Holdout</td>\n",
       "      <td>0.932948</td>\n",
       "      <td>0.978504</td>\n",
       "      <td>0.149401</td>\n",
       "      <td>0.903468</td>\n",
       "      <td>0.781891</td>\n",
       "      <td>0.838294</td>\n",
       "    </tr>\n",
       "  </tbody>\n",
       "</table>\n",
       "</div>"
      ],
      "text/plain": [
       "                       model  Accuracy   ROC_AUC   Logloss  Precision  \\\n",
       "0  Catboost baseline Holdout  0.930390  0.977312  0.153096   0.889835   \n",
       "0  LightGBM baseline Holdout  0.932948  0.978504  0.149401   0.903468   \n",
       "\n",
       "     Recall        f1  \n",
       "0  0.783892  0.833511  \n",
       "0  0.781891  0.838294  "
      ]
     },
     "execution_count": 42,
     "metadata": {},
     "output_type": "execute_result"
    }
   ],
   "source": [
    "df_metrics = pd.concat([df_metrics, get_metrics_classification(y_test, \n",
    "                                        test_pred, \n",
    "                                        test_pred_proba,\n",
    "                                        \"LightGBM baseline Holdout\")], axis=0)\n",
    "df_metrics"
   ]
  },
  {
   "cell_type": "code",
   "execution_count": 43,
   "id": "304e9e7b-c24b-492b-ae23-a4ca29e58c8e",
   "metadata": {},
   "outputs": [
    {
     "name": "stdout",
     "output_type": "stream",
     "text": [
      "ROC-AUC train: 0.986\n",
      "ROC-AUC test: 0.978\n",
      "delta = 0.8 %\n"
     ]
    },
    {
     "data": {
      "text/plain": [
       "(0.9863025097204688, 0.9780270461224321, 0.8461385225333354)"
      ]
     },
     "execution_count": 43,
     "metadata": {},
     "output_type": "execute_result"
    }
   ],
   "source": [
    "check_overfitting_classification(model,\n",
    "                  X_train_encoded,\n",
    "                  y_train,\n",
    "                  X_test_encoded,\n",
    "                  y_test)"
   ]
  },
  {
   "cell_type": "code",
   "execution_count": 44,
   "id": "aeaf0449-0ce4-4198-9696-f1cc9909e19d",
   "metadata": {},
   "outputs": [],
   "source": [
    "y_pred_final = model.predict(X_test_encoded)"
   ]
  },
  {
   "cell_type": "code",
   "execution_count": 45,
   "id": "2c5d6741-1523-4e97-8b82-cfe937b2fb63",
   "metadata": {},
   "outputs": [
    {
     "data": {
      "image/png": "[encoded data removed]",
      "text/plain": [
       "<Figure size 700x500 with 2 Axes>"
      ]
     },
     "metadata": {},
     "output_type": "display_data"
    }
   ],
   "source": [
    "def plot_confusion_matrix(y_true, y_pred, ax=None):\n",
    "    \"\"\"Визуализация ConfusionMatrix\"\"\"\n",
    "    labels = list(set(y_pred))\n",
    "    cm = confusion_matrix(y_true, y_pred, labels=labels)\n",
    "    disp = ConfusionMatrixDisplay(confusion_matrix=cm, display_labels=labels)\n",
    "    \n",
    "    if ax:\n",
    "        disp.plot(ax=ax)\n",
    "    else:\n",
    "        disp.plot()\n",
    "\n",
    "# Создаем фигуру и оси\n",
    "fig, ax = plt.subplots(figsize=(7, 5))\n",
    "\n",
    "# Визуализируем матрицу ошибок\n",
    "plot_confusion_matrix(y_true=y_test, y_pred=y_pred_final, ax=ax)\n",
    "plt.show()"
   ]
  },
  {
   "cell_type": "code",
   "execution_count": null,
   "id": "7f0970a4-895c-44ee-844d-5d4474727d0e",
   "metadata": {},
   "outputs": [],
   "source": []
  },
  {
   "cell_type": "code",
   "execution_count": 47,
   "id": "ce6af70b-3a82-48f0-83f0-bfd203b59f4f",
   "metadata": {},
   "outputs": [],
   "source": [
    "meta_X['index'] = meta_X.index"
   ]
  },
  {
   "cell_type": "code",
   "execution_count": 48,
   "id": "6c1d46a0-e198-4762-93c0-082011f4e711",
   "metadata": {},
   "outputs": [],
   "source": [
    "meta_X_test['index'] = meta_X_test.index"
   ]
  },
  {
   "cell_type": "code",
   "execution_count": 52,
   "id": "da3b0b3c-3167-4779-b72c-49af0b56bd3f",
   "metadata": {},
   "outputs": [],
   "source": [
    "meta_X.to_csv('meta_X_baseline.csv', index=False)"
   ]
  },
  {
   "cell_type": "code",
   "execution_count": 54,
   "id": "346c7b28-7d4d-452f-8abf-68dd3b4acaea",
   "metadata": {},
   "outputs": [],
   "source": [
    "meta_X_test.to_csv('meta_X_test_baseline.csv', index=False)"
   ]
  },
  {
   "cell_type": "code",
   "execution_count": 51,
   "id": "a0f5d896-b2a5-4626-a841-a008cadee20d",
   "metadata": {},
   "outputs": [],
   "source": [
    "df_metrics.to_csv('models_metrics.csv', index=False)"
   ]
  }
 ],
 "metadata": {
  "kernelspec": {
   "display_name": "Python 3 (ipykernel)",
   "language": "python",
   "name": "python3"
  },
  "language_info": {
   "codemirror_mode": {
    "name": "ipython",
    "version": 3
   },
   "file_extension": ".py",
   "mimetype": "text/x-python",
   "name": "python",
   "nbconvert_exporter": "python",
   "pygments_lexer": "ipython3",
   "version": "3.12.8"
  }
 },
 "nbformat": 4,
 "nbformat_minor": 5
}
